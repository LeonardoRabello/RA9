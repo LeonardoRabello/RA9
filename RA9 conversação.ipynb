{
 "cells": [
  {
   "cell_type": "markdown",
   "id": "b7ce09ae",
   "metadata": {},
   "source": [
    "# Importando Bibliotecas"
   ]
  },
  {
   "cell_type": "code",
   "execution_count": 1,
   "id": "7ffbd827",
   "metadata": {
    "scrolled": true
   },
   "outputs": [
    {
     "name": "stderr",
     "output_type": "stream",
     "text": [
      "C:\\Users\\vinic\\anaconda3\\lib\\site-packages\\scipy\\__init__.py:146: UserWarning: A NumPy version >=1.16.5 and <1.23.0 is required for this version of SciPy (detected version 1.23.0\n",
      "  warnings.warn(f\"A NumPy version >={np_minversion} and <{np_maxversion}\"\n"
     ]
    },
    {
     "name": "stdout",
     "output_type": "stream",
     "text": [
      "pygame 2.5.2 (SDL 2.28.3, Python 3.9.13)\n",
      "Hello from the pygame community. https://www.pygame.org/contribute.html\n"
     ]
    }
   ],
   "source": [
    "#importando bibliotecas para verificar velocidade do código\n",
    "import time\n",
    "import pandas as pd\n",
    "#Importando bibliotecas para conversação\n",
    "import openai\n",
    "import warnings\n",
    "#Importando bibliotecas para reconhecimento de imagem\n",
    "from ultralytics import YOLO\n",
    "import cv2\n",
    "import math\n",
    "import tensorflow\n",
    "import matplotlib.pyplot as plt\n",
    "#Importaando bibliotecas para comunicção com o arduino\n",
    "import serial\n",
    "from io import BytesIO\n",
    "import base64\n",
    "import matplotlib.image as mpimg\n",
    "#Importando Bibliotecas para reprodução de áudio\n",
    "import speech_recognition as sr\n",
    "import pygame"
   ]
  },
  {
   "cell_type": "markdown",
   "id": "35e0111a",
   "metadata": {},
   "source": [
    "Tirando aviso para possibilitar a reprodução da resposta"
   ]
  },
  {
   "cell_type": "code",
   "execution_count": 2,
   "id": "025ec10b",
   "metadata": {},
   "outputs": [],
   "source": [
    "warnings.filterwarnings('ignore', category=DeprecationWarning)"
   ]
  },
  {
   "cell_type": "markdown",
   "id": "cb30b869",
   "metadata": {},
   "source": [
    "# Criando o modelo de reconhecimento de imagem"
   ]
  },
  {
   "cell_type": "markdown",
   "id": "59075c46",
   "metadata": {},
   "source": [
    "Essa parte do código foi adaptada do https://dipankarmedh1.medium.com/real-time-object-detection-with-yolo-and-webcam-enhancing-your-computer-vision-skills-861b97c78993"
   ]
  },
  {
   "cell_type": "code",
   "execution_count": 3,
   "id": "bef62cd0",
   "metadata": {},
   "outputs": [],
   "source": [
    "model = YOLO(\"yolov8n.pt\")\n",
    "\n",
    "#coisas que podem ser reconhecidas com esse modelo\n",
    "classNames = [\"person\", \"bicycle\", \"car\", \"motorbike\", \"aeroplane\", \"bus\", \"train\", \"truck\", \"boat\",\n",
    "              \"traffic light\", \"fire hydrant\", \"stop sign\", \"parking meter\", \"bench\", \"bird\", \"cat\",\n",
    "              \"dog\", \"horse\", \"sheep\", \"cow\", \"elephant\", \"bear\", \"zebra\", \"giraffe\", \"backpack\", \"umbrella\",\n",
    "              \"handbag\", \"tie\", \"suitcase\", \"frisbee\", \"skis\", \"snowboard\", \"sports ball\", \"kite\", \"baseball bat\",\n",
    "              \"baseball glove\", \"skateboard\", \"surfboard\", \"tennis racket\", \"bottle\", \"wine glass\", \"cup\",\n",
    "              \"fork\", \"knife\", \"spoon\", \"bowl\", \"banana\", \"apple\", \"sandwich\", \"orange\", \"broccoli\",\n",
    "              \"carrot\", \"hot dog\", \"pizza\", \"donut\", \"cake\", \"chair\", \"sofa\", \"pottedplant\", \"bed\",\n",
    "              \"diningtable\", \"toilet\", \"tvmonitor\", \"laptop\", \"mouse\", \"remote\", \"keyboard\", \"cell phone\",\n",
    "              \"microwave\", \"oven\", \"toaster\", \"sink\", \"refrigerator\", \"book\", \"clock\", \"vase\", \"scissors\",\n",
    "              \"teddy bear\", \"hair drier\", \"toothbrush\"\n",
    "              ]"
   ]
  },
  {
   "cell_type": "markdown",
   "id": "5ff8715e",
   "metadata": {},
   "source": [
    "Criando verificação teste(mostra a imagem antes e depois do processo, mas é mais lento)"
   ]
  },
  {
   "cell_type": "code",
   "execution_count": 4,
   "id": "b19067bf",
   "metadata": {},
   "outputs": [],
   "source": [
    "def test_verify(_img, min_conf=0.5):\n",
    "    resultado = []\n",
    "    results = model(img)\n",
    "    temp=img.copy()\n",
    "\n",
    "    #Criando as caixas ao redor do objeto\n",
    "    for r in results:\n",
    "        boxes = r.boxes\n",
    "\n",
    "    for box in boxes:\n",
    "        #Definindo coordernadas da caixa\n",
    "        x1, y1, x2, y2 = int(x1), int(y1), int(x2), int(y2) # convert to int values\n",
    "\n",
    "        #Deefinindo a confiança\n",
    "        confidence = math.ceil((box.conf[0]*100))/100\n",
    "        if confidence>=min_conf:\n",
    "\n",
    "            #plotando a caixa na imagem\n",
    "            cv2.rectangle(temp, (x1, y1), (x2, y2), (0, 255, 0), 3)\n",
    "\n",
    "            #printando confiabilidade e qual objeto é\n",
    "            print(\"Confidence --->\",confidence)\n",
    "            cls = int(box.cls[0])\n",
    "            print(\"Class name -->\", classNames[cls])\n",
    "\n",
    "            #Escrevendo a confiabilidade e o qual objeto é na caixa\n",
    "            font = cv2.FONT_HERSHEY_SIMPLEX\n",
    "            fontScale = 1\n",
    "            color = (0, 0, 255)\n",
    "            thickness = 2\n",
    "            cv2.putText(temp, classNames[cls], [x1, y1], font, fontScale, color, thickness)\n",
    "            cv2.putText(temp, str(confidence*100)+'%', [x2 - 50, y1], font, fontScale, color, thickness)\n",
    "            resultado.append(classNames[cls])\n",
    "    plt.figure(figsize=(20,20))\n",
    "    plt.subplot(1,2,1)\n",
    "    plt.imshow(img)\n",
    "    plt.subplot(1,2,2)\n",
    "    plt.imshow(temp)\n",
    "    plt.show()\n",
    "    return resultado"
   ]
  },
  {
   "cell_type": "markdown",
   "id": "60743fa9",
   "metadata": {},
   "source": [
    "Criando a verificação rápida"
   ]
  },
  {
   "cell_type": "code",
   "execution_count": 5,
   "id": "2701e585",
   "metadata": {},
   "outputs": [],
   "source": [
    "def fast_verify(_img, min_conf=0.5):\n",
    "    #Criando a lista de objetos encontrados\n",
    "    resultado = []\n",
    "    results = model(img)\n",
    "    \n",
    "    for r in results:\n",
    "        boxes = r.boxes\n",
    "    for box in boxes:\n",
    "        #Definindo confiança do objeto\n",
    "        confidence = math.ceil((box.conf[0]*100))/100\n",
    "        \n",
    "        #retornando os objetos detectados\n",
    "        if confidence>=min_conf:\n",
    "            cls = int(box.cls[0])\n",
    "            resultado.append(classNames[cls])\n",
    "        return resultado"
   ]
  },
  {
   "cell_type": "markdown",
   "id": "5780b667",
   "metadata": {},
   "source": [
    "# Criando Funções Gerais do código"
   ]
  },
  {
   "cell_type": "markdown",
   "id": "b2b1037d",
   "metadata": {},
   "source": [
    "Criando comunicação com o arduino"
   ]
  },
  {
   "cell_type": "code",
   "execution_count": 6,
   "id": "e408faa4",
   "metadata": {},
   "outputs": [],
   "source": [
    "#arduino = serial.Serial(port='COMX', baudrate=9600, timeout=0.1)"
   ]
  },
  {
   "cell_type": "code",
   "execution_count": 7,
   "id": "fd6c6271",
   "metadata": {},
   "outputs": [],
   "source": [
    "def enviar(_msg):\n",
    "    arduino.write(bytes(_msg, 'utf-8'))\n",
    "\n",
    "def receber():\n",
    "    resposta = arduino.readline()\n",
    "    resposta = resposta.decode('utf-8')\n",
    "    return resposta"
   ]
  },
  {
   "cell_type": "code",
   "execution_count": 8,
   "id": "78f7ec33",
   "metadata": {},
   "outputs": [],
   "source": [
    "def verify_to_arduino():\n",
    "    img = receber()#caso a imagem chege em base64\n",
    "    img = base64.b64decode(img)\n",
    "    img = BytesIO(img)\n",
    "    img = mpimg.imread(img)\n",
    "    resposta = fast_verify(img)\n",
    "    enviar(person in resposta)\n",
    "    return resposta"
   ]
  },
  {
   "cell_type": "markdown",
   "id": "e7b2fded",
   "metadata": {},
   "source": [
    "Criando o cliente, o assistente e a thread com a OpenAi"
   ]
  },
  {
   "cell_type": "code",
   "execution_count": 9,
   "id": "5da51bf5",
   "metadata": {},
   "outputs": [],
   "source": [
    "client=openai.OpenAI()"
   ]
  },
  {
   "cell_type": "code",
   "execution_count": 10,
   "id": "a59beecc",
   "metadata": {},
   "outputs": [],
   "source": [
    "assistant = client.beta.assistants.create(\n",
    "    name=\"RA9\",\n",
    "    instructions=\"Você se chama RA9 é é um robô impresso em 3D projetado para interagir com pessoas no evento Sepex 2024 do CEFET-RJ. Equipado com uma câmera (OV7670), dois sensores de movimento (HC-SR505) e um sensor de distância (VL53L0), você tem o objetivo de ser uma presença amigável e envolvente. Quando solicitado, deve se apresentar e manter uma atitude positiva durante as interações. Funcionalidades:Reconhecimento de Imagem: O RA9 utiliza o YOLO para reconhecimento de imagem, sendo capaz de identificar objetos e fornecer informações sobre eles. Comunicação com Arduino: O robô se comunica com um Arduino para funcionalidades adicionais. Processamento de Linguagem Natural: O RA9 utiliza o GPT-3.5-turbo da OpenAI para compreensão e geração de linguagem natural. Pode responder a perguntas dos usuários e participar de conversas. Interação de Áudio: O RA9 pode gravar e processar entradas de áudio, transcrevê-las para texto e gerar respostas faladas usando tecnologia de texto para fala. Sempre que a mensagem recebida for uma finalização de conversa ou não tenha nenhuma mensagem, no final da mensagem digite []\",\n",
    "    model=\"gpt-3.5-turbo-0125\"\n",
    ")"
   ]
  },
  {
   "cell_type": "code",
   "execution_count": 11,
   "id": "e05bf6f4",
   "metadata": {},
   "outputs": [],
   "source": [
    "thread = client.beta.threads.create()"
   ]
  },
  {
   "cell_type": "markdown",
   "id": "9f71707d",
   "metadata": {},
   "source": [
    "Criando a tabela e a função para adicionar os dados de velocidade na tabela"
   ]
  },
  {
   "cell_type": "code",
   "execution_count": 12,
   "id": "7a3d0b21",
   "metadata": {},
   "outputs": [],
   "source": [
    "df=pd.DataFrame(columns=['função','tempo'])"
   ]
  },
  {
   "cell_type": "code",
   "execution_count": 13,
   "id": "11d4c294",
   "metadata": {},
   "outputs": [],
   "source": [
    "def speed_verify(_nome, _tempo):\n",
    "    row={'função':str(_nome), 'tempo':str(_tempo)+'s'}\n",
    "    df.loc[len(df.index)]=row"
   ]
  },
  {
   "cell_type": "markdown",
   "id": "1f24ca41",
   "metadata": {},
   "source": [
    "Criando funções para escutar e reproduzir o texto"
   ]
  },
  {
   "cell_type": "code",
   "execution_count": 14,
   "id": "ef6e7a79",
   "metadata": {},
   "outputs": [],
   "source": [
    "def ouvir_microfone():\n",
    "    texto = ''\n",
    "    lista = ['r19', 'rh9', 'ra9', 'RA9', 'R A 9', 'r a 9', 'R A9', 'r a9']\n",
    "    global fim\n",
    "    inicio = time.time()\n",
    "    microfone = sr.Recognizer()\n",
    "    with sr.Microphone() as source:\n",
    "        microfone.adjust_for_ambient_noise(source)\n",
    "        print('escutando...')\n",
    "        audio = microfone.listen(source)\n",
    "        try:\n",
    "            texto = microfone.recognize_google(audio, language='pt-BR')\n",
    "            if fim == False:\n",
    "                print('    pergunta >>> ' + texto)\n",
    "            else:\n",
    "                for elemento in lista:\n",
    "                    if elemento in texto:\n",
    "                        fim = False\n",
    "                        print('Ligando...')\n",
    "            tempo = time.time() - inicio\n",
    "            speed_verify('ouvir_microfone', tempo)\n",
    "        except:\n",
    "            print('não foi possivel detectar o áduio, tente falar novamente.')\n",
    "    return texto"
   ]
  },
  {
   "cell_type": "code",
   "execution_count": 15,
   "id": "4b818842",
   "metadata": {},
   "outputs": [],
   "source": [
    "def mensagem(_msg):\n",
    "    inicio = time.time()\n",
    "    message = client.beta.threads.messages.create(\n",
    "        thread_id=thread.id,\n",
    "        role=\"user\",\n",
    "        content=_msg+f'Use apenas se for necessário, e não diga que você foi informado, finja que você sabe que {time.localtime()} e que você está vendo' #{verify_to_arduino()}'\n",
    "    )\n",
    "    tempo = time.time() - inicio\n",
    "    speed_verify('mensagem', tempo)"
   ]
  },
  {
   "cell_type": "code",
   "execution_count": 16,
   "id": "22051ed3",
   "metadata": {},
   "outputs": [],
   "source": [
    "def resposta():\n",
    "    global fim \n",
    "    inicio = time.time()\n",
    "    run = client.beta.threads.runs.create(\n",
    "      thread_id=thread.id,\n",
    "      assistant_id=assistant.id,\n",
    "    )\n",
    "    \n",
    "    run = client.beta.threads.runs.retrieve(\n",
    "          thread_id=thread.id,\n",
    "          run_id=run.id\n",
    "        )\n",
    "    \n",
    "    while run.status=='in_progress':\n",
    "        run = client.beta.threads.runs.retrieve(\n",
    "          thread_id=thread.id,\n",
    "          run_id=run.id\n",
    "        )\n",
    "    if run.status=='completed':\n",
    "        messages = client.beta.threads.messages.list(\n",
    "        thread_id=thread.id\n",
    "        )\n",
    "    tempo = time.time() - inicio\n",
    "    if '[]' in messages.data[0].content[0].text.value:\n",
    "        fim = True\n",
    "    \n",
    "    print('    resposta >>> '+messages.data[0].content[0].text.value)\n",
    "    speed_verify('resposta', tempo)\n",
    "    return messages.data[0].content[0].text.value"
   ]
  },
  {
   "cell_type": "code",
   "execution_count": 17,
   "id": "e5c67bf2",
   "metadata": {},
   "outputs": [],
   "source": [
    "def to_audio(_texto, _i):\n",
    "    inicio = time.time()\n",
    "    response = client.audio.speech.create(\n",
    "        model=\"tts-1\",\n",
    "        voice=\"onyx\",\n",
    "        input=_texto\n",
    "        )\n",
    "    response.stream_to_file(f'output{_i}.mp3')\n",
    "    tempo = time.time() - inicio\n",
    "    speed_verify('para_audio', tempo)"
   ]
  },
  {
   "cell_type": "markdown",
   "id": "3cd54345",
   "metadata": {},
   "source": [
    "Juntando todas funções em uma só"
   ]
  },
  {
   "cell_type": "code",
   "execution_count": 18,
   "id": "e2b998ed",
   "metadata": {},
   "outputs": [],
   "source": [
    "fim = False"
   ]
  },
  {
   "cell_type": "code",
   "execution_count": 19,
   "id": "c97ffe57",
   "metadata": {
    "scrolled": false
   },
   "outputs": [],
   "source": [
    "def RA9():\n",
    "    i = 1\n",
    "    while True:\n",
    "        df.drop(df.index, inplace=True)\n",
    "        while fim == False:\n",
    "            inicio = time.time()\n",
    "            mensagem(ouvir_microfone())\n",
    "            to_audio(resposta(), i)\n",
    "            pygame.init()\n",
    "            pygame.mixer.music.load(f'output{i}.mp3')\n",
    "            i+=1\n",
    "            pygame.mixer.music.play()\n",
    "            while pygame.mixer.music.get_busy():\n",
    "                pass\n",
    "            tempo = time.time() - inicio\n",
    "            speed_verify('Tempo Total', tempo)\n",
    "            print(f'\\n{df.to_markdown(index=False)}\\n')\n",
    "            \n",
    "        while fim:\n",
    "            ouvir_microfone()"
   ]
  },
  {
   "cell_type": "code",
   "execution_count": 21,
   "id": "37699344",
   "metadata": {},
   "outputs": [
    {
     "name": "stdout",
     "output_type": "stream",
     "text": [
      "escutando...\n",
      "    pergunta >>> Olá\n",
      "    resposta >>> Olá! Como posso te ajudar hoje?\n"
     ]
    },
    {
     "ename": "PermissionError",
     "evalue": "[Errno 13] Permission denied: 'output1.mp3'",
     "output_type": "error",
     "traceback": [
      "\u001b[1;31m---------------------------------------------------------------------------\u001b[0m",
      "\u001b[1;31mPermissionError\u001b[0m                           Traceback (most recent call last)",
      "\u001b[1;32m~\\AppData\\Local\\Temp\\ipykernel_11316\\3383368670.py\u001b[0m in \u001b[0;36m<module>\u001b[1;34m\u001b[0m\n\u001b[1;32m----> 1\u001b[1;33m \u001b[0mRA9\u001b[0m\u001b[1;33m(\u001b[0m\u001b[1;33m)\u001b[0m\u001b[1;33m\u001b[0m\u001b[1;33m\u001b[0m\u001b[0m\n\u001b[0m",
      "\u001b[1;32m~\\AppData\\Local\\Temp\\ipykernel_11316\\910646690.py\u001b[0m in \u001b[0;36mRA9\u001b[1;34m()\u001b[0m\n\u001b[0;32m      6\u001b[0m             \u001b[0minicio\u001b[0m \u001b[1;33m=\u001b[0m \u001b[0mtime\u001b[0m\u001b[1;33m.\u001b[0m\u001b[0mtime\u001b[0m\u001b[1;33m(\u001b[0m\u001b[1;33m)\u001b[0m\u001b[1;33m\u001b[0m\u001b[1;33m\u001b[0m\u001b[0m\n\u001b[0;32m      7\u001b[0m             \u001b[0mmensagem\u001b[0m\u001b[1;33m(\u001b[0m\u001b[0mouvir_microfone\u001b[0m\u001b[1;33m(\u001b[0m\u001b[1;33m)\u001b[0m\u001b[1;33m)\u001b[0m\u001b[1;33m\u001b[0m\u001b[1;33m\u001b[0m\u001b[0m\n\u001b[1;32m----> 8\u001b[1;33m             \u001b[0mto_audio\u001b[0m\u001b[1;33m(\u001b[0m\u001b[0mresposta\u001b[0m\u001b[1;33m(\u001b[0m\u001b[1;33m)\u001b[0m\u001b[1;33m,\u001b[0m \u001b[0mi\u001b[0m\u001b[1;33m)\u001b[0m\u001b[1;33m\u001b[0m\u001b[1;33m\u001b[0m\u001b[0m\n\u001b[0m\u001b[0;32m      9\u001b[0m             \u001b[0mpygame\u001b[0m\u001b[1;33m.\u001b[0m\u001b[0minit\u001b[0m\u001b[1;33m(\u001b[0m\u001b[1;33m)\u001b[0m\u001b[1;33m\u001b[0m\u001b[1;33m\u001b[0m\u001b[0m\n\u001b[0;32m     10\u001b[0m             \u001b[0mpygame\u001b[0m\u001b[1;33m.\u001b[0m\u001b[0mmixer\u001b[0m\u001b[1;33m.\u001b[0m\u001b[0mmusic\u001b[0m\u001b[1;33m.\u001b[0m\u001b[0mload\u001b[0m\u001b[1;33m(\u001b[0m\u001b[1;34mf'output{i}.mp3'\u001b[0m\u001b[1;33m)\u001b[0m\u001b[1;33m\u001b[0m\u001b[1;33m\u001b[0m\u001b[0m\n",
      "\u001b[1;32m~\\AppData\\Local\\Temp\\ipykernel_11316\\1444552564.py\u001b[0m in \u001b[0;36mto_audio\u001b[1;34m(_texto, _i)\u001b[0m\n\u001b[0;32m      6\u001b[0m         \u001b[0minput\u001b[0m\u001b[1;33m=\u001b[0m\u001b[0m_texto\u001b[0m\u001b[1;33m\u001b[0m\u001b[1;33m\u001b[0m\u001b[0m\n\u001b[0;32m      7\u001b[0m         )\n\u001b[1;32m----> 8\u001b[1;33m     \u001b[0mresponse\u001b[0m\u001b[1;33m.\u001b[0m\u001b[0mstream_to_file\u001b[0m\u001b[1;33m(\u001b[0m\u001b[1;34mf'output{_i}.mp3'\u001b[0m\u001b[1;33m)\u001b[0m\u001b[1;33m\u001b[0m\u001b[1;33m\u001b[0m\u001b[0m\n\u001b[0m\u001b[0;32m      9\u001b[0m     \u001b[0mtempo\u001b[0m \u001b[1;33m=\u001b[0m \u001b[0mtime\u001b[0m\u001b[1;33m.\u001b[0m\u001b[0mtime\u001b[0m\u001b[1;33m(\u001b[0m\u001b[1;33m)\u001b[0m \u001b[1;33m-\u001b[0m \u001b[0minicio\u001b[0m\u001b[1;33m\u001b[0m\u001b[1;33m\u001b[0m\u001b[0m\n\u001b[0;32m     10\u001b[0m     \u001b[0mspeed_verify\u001b[0m\u001b[1;33m(\u001b[0m\u001b[1;34m'para_audio'\u001b[0m\u001b[1;33m,\u001b[0m \u001b[0mtempo\u001b[0m\u001b[1;33m)\u001b[0m\u001b[1;33m\u001b[0m\u001b[1;33m\u001b[0m\u001b[0m\n",
      "\u001b[1;32m~\\anaconda3\\lib\\site-packages\\typing_extensions.py\u001b[0m in \u001b[0;36mwrapper\u001b[1;34m(*args, **kwargs)\u001b[0m\n\u001b[0;32m   2497\u001b[0m                 \u001b[1;32mdef\u001b[0m \u001b[0mwrapper\u001b[0m\u001b[1;33m(\u001b[0m\u001b[1;33m*\u001b[0m\u001b[0margs\u001b[0m\u001b[1;33m,\u001b[0m \u001b[1;33m**\u001b[0m\u001b[0mkwargs\u001b[0m\u001b[1;33m)\u001b[0m\u001b[1;33m:\u001b[0m\u001b[1;33m\u001b[0m\u001b[1;33m\u001b[0m\u001b[0m\n\u001b[0;32m   2498\u001b[0m                     \u001b[0mwarnings\u001b[0m\u001b[1;33m.\u001b[0m\u001b[0mwarn\u001b[0m\u001b[1;33m(\u001b[0m\u001b[0mmsg\u001b[0m\u001b[1;33m,\u001b[0m \u001b[0mcategory\u001b[0m\u001b[1;33m=\u001b[0m\u001b[0mcategory\u001b[0m\u001b[1;33m,\u001b[0m \u001b[0mstacklevel\u001b[0m\u001b[1;33m=\u001b[0m\u001b[0mstacklevel\u001b[0m \u001b[1;33m+\u001b[0m \u001b[1;36m1\u001b[0m\u001b[1;33m)\u001b[0m\u001b[1;33m\u001b[0m\u001b[1;33m\u001b[0m\u001b[0m\n\u001b[1;32m-> 2499\u001b[1;33m                     \u001b[1;32mreturn\u001b[0m \u001b[0marg\u001b[0m\u001b[1;33m(\u001b[0m\u001b[1;33m*\u001b[0m\u001b[0margs\u001b[0m\u001b[1;33m,\u001b[0m \u001b[1;33m**\u001b[0m\u001b[0mkwargs\u001b[0m\u001b[1;33m)\u001b[0m\u001b[1;33m\u001b[0m\u001b[1;33m\u001b[0m\u001b[0m\n\u001b[0m\u001b[0;32m   2500\u001b[0m \u001b[1;33m\u001b[0m\u001b[0m\n\u001b[0;32m   2501\u001b[0m                 \u001b[0marg\u001b[0m\u001b[1;33m.\u001b[0m\u001b[0m__deprecated__\u001b[0m \u001b[1;33m=\u001b[0m \u001b[0mwrapper\u001b[0m\u001b[1;33m.\u001b[0m\u001b[0m__deprecated__\u001b[0m \u001b[1;33m=\u001b[0m \u001b[0mmsg\u001b[0m\u001b[1;33m\u001b[0m\u001b[1;33m\u001b[0m\u001b[0m\n",
      "\u001b[1;32m~\\anaconda3\\lib\\site-packages\\openai\\_legacy_response.py\u001b[0m in \u001b[0;36mstream_to_file\u001b[1;34m(self, file, chunk_size)\u001b[0m\n\u001b[0;32m    400\u001b[0m         \u001b[0mchunk_size\u001b[0m\u001b[1;33m:\u001b[0m \u001b[0mint\u001b[0m \u001b[1;33m|\u001b[0m \u001b[1;32mNone\u001b[0m \u001b[1;33m=\u001b[0m \u001b[1;32mNone\u001b[0m\u001b[1;33m,\u001b[0m\u001b[1;33m\u001b[0m\u001b[1;33m\u001b[0m\u001b[0m\n\u001b[0;32m    401\u001b[0m     ) -> None:\n\u001b[1;32m--> 402\u001b[1;33m         \u001b[1;32mwith\u001b[0m \u001b[0mopen\u001b[0m\u001b[1;33m(\u001b[0m\u001b[0mfile\u001b[0m\u001b[1;33m,\u001b[0m \u001b[0mmode\u001b[0m\u001b[1;33m=\u001b[0m\u001b[1;34m\"wb\"\u001b[0m\u001b[1;33m)\u001b[0m \u001b[1;32mas\u001b[0m \u001b[0mf\u001b[0m\u001b[1;33m:\u001b[0m\u001b[1;33m\u001b[0m\u001b[1;33m\u001b[0m\u001b[0m\n\u001b[0m\u001b[0;32m    403\u001b[0m             \u001b[1;32mfor\u001b[0m \u001b[0mdata\u001b[0m \u001b[1;32min\u001b[0m \u001b[0mself\u001b[0m\u001b[1;33m.\u001b[0m\u001b[0mresponse\u001b[0m\u001b[1;33m.\u001b[0m\u001b[0miter_bytes\u001b[0m\u001b[1;33m(\u001b[0m\u001b[0mchunk_size\u001b[0m\u001b[1;33m)\u001b[0m\u001b[1;33m:\u001b[0m\u001b[1;33m\u001b[0m\u001b[1;33m\u001b[0m\u001b[0m\n\u001b[0;32m    404\u001b[0m                 \u001b[0mf\u001b[0m\u001b[1;33m.\u001b[0m\u001b[0mwrite\u001b[0m\u001b[1;33m(\u001b[0m\u001b[0mdata\u001b[0m\u001b[1;33m)\u001b[0m\u001b[1;33m\u001b[0m\u001b[1;33m\u001b[0m\u001b[0m\n",
      "\u001b[1;31mPermissionError\u001b[0m: [Errno 13] Permission denied: 'output1.mp3'"
     ]
    }
   ],
   "source": [
    "RA9()"
   ]
  },
  {
   "cell_type": "code",
   "execution_count": null,
   "id": "f476e778",
   "metadata": {},
   "outputs": [],
   "source": []
  }
 ],
 "metadata": {
  "kernelspec": {
   "display_name": "Python 3 (ipykernel)",
   "language": "python",
   "name": "python3"
  },
  "language_info": {
   "codemirror_mode": {
    "name": "ipython",
    "version": 3
   },
   "file_extension": ".py",
   "mimetype": "text/x-python",
   "name": "python",
   "nbconvert_exporter": "python",
   "pygments_lexer": "ipython3",
   "version": "3.9.13"
  }
 },
 "nbformat": 4,
 "nbformat_minor": 5
}
